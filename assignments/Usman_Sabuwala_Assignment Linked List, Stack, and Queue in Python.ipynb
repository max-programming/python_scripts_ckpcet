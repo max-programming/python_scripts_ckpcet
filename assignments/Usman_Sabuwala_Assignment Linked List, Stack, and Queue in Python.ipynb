{
 "cells": [
  {
   "cell_type": "markdown",
   "id": "205a12b7",
   "metadata": {},
   "source": [
    "## **Instructions**\n",
    "- Write Python programs for each of the following tasks.\n",
    "- Use functions and classes where applicable.\n",
    "- Add comments to explain your code."
   ]
  },
  {
   "cell_type": "markdown",
   "id": "a6931497",
   "metadata": {},
   "source": [
    "## **1. Implement a Singly Linked List**\n",
    "Implement a singly linked list with the following operations:\n",
    "- `insert(value)`: Insert a node at the end.\n",
    "- `delete(value)`: Delete a node by value.\n",
    "- `traverse()`: Print all elements in the linked list."
   ]
  },
  {
   "cell_type": "code",
   "execution_count": null,
   "id": "dbf08131",
   "metadata": {},
   "outputs": [],
   "source": [
    "class Node:\n",
    "  def __init__(self, data: int):\n",
    "    self.data = data\n",
    "    self.next: Node = None\n",
    "\n",
    "class LinkedList:\n",
    "  def __init__(self):\n",
    "    self.head: Node = None\n",
    "  \n",
    "  def insert(self, data: int):\n",
    "    if self.head is None:\n",
    "      self.head = Node(data)\n",
    "    else:\n",
    "      current = self.head\n",
    "      while current.next:\n",
    "        current = current.next\n",
    "      current.next = Node(data)\n",
    "    \n",
    "  def delete(self, data: int):\n",
    "    if self.head is None:\n",
    "      return\n",
    "    if self.head.data == data:\n",
    "      self.head = self.head.next\n",
    "      return\n",
    "    current = self.head\n",
    "    while current.next:\n",
    "      if current.next.data == data:\n",
    "        current.next = current.next.next\n",
    "        return\n",
    "      current = current.next\n",
    "  \n",
    "  def traverse(self):\n",
    "    current = self.head\n",
    "    while current:\n",
    "      print(current.data, end=' -> ')\n",
    "      current = current.next\n",
    "    print('None')"
   ]
  },
  {
   "cell_type": "code",
   "execution_count": 9,
   "id": "8b1f59d8",
   "metadata": {},
   "outputs": [
    {
     "name": "stdout",
     "output_type": "stream",
     "text": [
      "1 -> 2 -> 4 -> 5 -> None\n"
     ]
    }
   ],
   "source": [
    "ll = LinkedList()\n",
    "ll.insert(1)\n",
    "ll.insert(2)\n",
    "ll.insert(3)\n",
    "ll.insert(4)\n",
    "ll.insert(5)\n",
    "ll.delete(3)\n",
    "ll.traverse()"
   ]
  },
  {
   "cell_type": "markdown",
   "id": "fea6ef43",
   "metadata": {},
   "source": [
    "## **2. Reverse a Linked List**\n",
    "Write a function to reverse a given singly linked list.\n"
   ]
  },
  {
   "cell_type": "code",
   "execution_count": 10,
   "id": "fa43a3b6",
   "metadata": {},
   "outputs": [],
   "source": [
    "def reverse_linked_list(ll: LinkedList):\n",
    "  if ll.head is None:\n",
    "    return\n",
    "  prev = None\n",
    "  current = ll.head\n",
    "  while current:\n",
    "    next = current.next\n",
    "    current.next = prev\n",
    "    prev = current\n",
    "    current = next\n",
    "  ll.head = prev"
   ]
  },
  {
   "cell_type": "code",
   "execution_count": 11,
   "id": "cf562bad",
   "metadata": {},
   "outputs": [
    {
     "name": "stdout",
     "output_type": "stream",
     "text": [
      "5 -> 4 -> 2 -> 1 -> None\n"
     ]
    }
   ],
   "source": [
    "reverse_linked_list(ll)\n",
    "ll.traverse()"
   ]
  },
  {
   "cell_type": "markdown",
   "id": "ae868a3c",
   "metadata": {},
   "source": [
    "## **3. Detect a Cycle in a Linked List**\n",
    "Implement Floyd’s Cycle Detection Algorithm to determine whether a given linked list has a cycle.\n",
    "\n"
   ]
  },
  {
   "cell_type": "code",
   "execution_count": null,
   "id": "197cedf4",
   "metadata": {},
   "outputs": [],
   "source": []
  },
  {
   "cell_type": "code",
   "execution_count": null,
   "id": "8d4ed4a1",
   "metadata": {},
   "outputs": [],
   "source": []
  },
  {
   "cell_type": "markdown",
   "id": "e06e78dc",
   "metadata": {},
   "source": [
    "## **4. Merge Two Sorted Linked Lists**\n",
    "Given two sorted linked lists, merge them into one sorted linked list and return the head of the merged list.\n"
   ]
  },
  {
   "cell_type": "code",
   "execution_count": null,
   "id": "72b77669",
   "metadata": {},
   "outputs": [],
   "source": []
  },
  {
   "cell_type": "code",
   "execution_count": null,
   "id": "442715a5",
   "metadata": {},
   "outputs": [],
   "source": []
  },
  {
   "cell_type": "markdown",
   "id": "06e67992",
   "metadata": {},
   "source": [
    "## **5. Find the Middle Node of a Linked List**\n",
    "Implement a function to find and return the middle node of a singly linked list.\n"
   ]
  },
  {
   "cell_type": "code",
   "execution_count": null,
   "id": "289fc45b",
   "metadata": {},
   "outputs": [],
   "source": []
  },
  {
   "cell_type": "code",
   "execution_count": null,
   "id": "e9c48e5d",
   "metadata": {},
   "outputs": [],
   "source": []
  },
  {
   "cell_type": "markdown",
   "id": "b2f8080c",
   "metadata": {},
   "source": [
    "## **6. Implement a Stack Using a List**\n",
    "Create a Python class to implement a stack with the following methods:\n",
    "- `push(value)`: Add an element to the stack.\n",
    "- `pop()`: Remove the top element.\n",
    "- `peek()`: Return the top element without removing it.\n",
    "- `is_empty()`: Check if the stack is empty.\n",
    "- `size()`: Return the number of elements in the stack.\n"
   ]
  },
  {
   "cell_type": "code",
   "execution_count": 3,
   "id": "eff8154f",
   "metadata": {},
   "outputs": [],
   "source": [
    "from typing import List\n",
    "\n",
    "class Stack:\n",
    "  def __init__(self, capacity: int):\n",
    "    self.items: List[int] = []\n",
    "    self.top = -1\n",
    "    self.capacity = capacity\n",
    "\n",
    "  def push(self, value: int):\n",
    "    if self.is_full():\n",
    "      raise Exception('Stack overflow')\n",
    "    self.items.append(value)\n",
    "    self.top += 1\n",
    "\n",
    "  def pop(self) -> int:\n",
    "    if self.is_empty():\n",
    "      raise Exception('Stack underflow')\n",
    "    self.top -= 1\n",
    "    return self.items.pop()\n",
    "  \n",
    "  def peek(self) -> int:\n",
    "    if self.is_empty():\n",
    "      raise Exception('Stack underflow')\n",
    "    return self.items[self.top]\n",
    "\n",
    "  def size(self) -> int:\n",
    "    return len(self.items)\n",
    "\n",
    "  def is_empty(self) -> bool:\n",
    "    return self.top == -1\n",
    "\n",
    "  def is_full(self) -> bool:\n",
    "    return self.top == self.capacity - 1"
   ]
  },
  {
   "cell_type": "code",
   "execution_count": 4,
   "id": "64623e84",
   "metadata": {},
   "outputs": [
    {
     "name": "stdout",
     "output_type": "stream",
     "text": [
      "3\n",
      "1\n",
      "1\n"
     ]
    }
   ],
   "source": [
    "stack = Stack(3)\n",
    "stack.push(1)\n",
    "stack.push(2)\n",
    "stack.push(3)\n",
    "# stack.push(4) # Stack overflow\n",
    "\n",
    "print(stack.pop())\n",
    "# stack.pop()\n",
    "stack.pop()\n",
    "# stack.pop() # Stack underflow\n",
    "\n",
    "print(stack.peek())\n",
    "print(stack.size())"
   ]
  },
  {
   "cell_type": "markdown",
   "id": "0eca83ef",
   "metadata": {},
   "source": [
    "## **7. Implement a Stack Using a Linked List**\n",
    "Create a stack implementation where elements are stored in a linked list instead of a Python list.\n"
   ]
  },
  {
   "cell_type": "code",
   "execution_count": null,
   "id": "65653f47",
   "metadata": {},
   "outputs": [],
   "source": []
  },
  {
   "cell_type": "code",
   "execution_count": null,
   "id": "505a4dec",
   "metadata": {},
   "outputs": [],
   "source": []
  },
  {
   "cell_type": "markdown",
   "id": "6cd089e4",
   "metadata": {},
   "source": [
    "## **8. Check for Balanced Parentheses Using Stack**\n",
    "Given a string containing `()[]{}`, write a function that checks if the parentheses are balanced using a stack.\n",
    "\n"
   ]
  },
  {
   "cell_type": "code",
   "execution_count": null,
   "id": "12aeaea0",
   "metadata": {},
   "outputs": [],
   "source": []
  },
  {
   "cell_type": "code",
   "execution_count": null,
   "id": "e6ed4856",
   "metadata": {},
   "outputs": [],
   "source": []
  },
  {
   "cell_type": "markdown",
   "id": "8f743d1b",
   "metadata": {},
   "source": [
    "## **9. Implement a Stack That Supports Get Minimum in O(1) Time**\n",
    "Design a stack that supports `push()`, `pop()`, and retrieving the minimum element in constant time.\n",
    "\n"
   ]
  },
  {
   "cell_type": "code",
   "execution_count": null,
   "id": "2b1d8af5",
   "metadata": {},
   "outputs": [],
   "source": []
  },
  {
   "cell_type": "code",
   "execution_count": null,
   "id": "f3d26729",
   "metadata": {},
   "outputs": [],
   "source": []
  },
  {
   "cell_type": "markdown",
   "id": "0bb922b5",
   "metadata": {},
   "source": [
    "## **10. Implement a Queue Using a List**\n",
    "Write a Python class to implement a queue using a list with methods for:\n",
    "- `enqueue(value)`: Add an element to the queue.\n",
    "- `dequeue()`: Remove the front element.\n",
    "- `is_empty()`: Check if the queue is empty.\n",
    "- `size()`: Return the number of elements in the queue."
   ]
  },
  {
   "cell_type": "code",
   "execution_count": null,
   "id": "39f10454",
   "metadata": {},
   "outputs": [],
   "source": []
  },
  {
   "cell_type": "code",
   "execution_count": null,
   "id": "db089751",
   "metadata": {},
   "outputs": [],
   "source": []
  },
  {
   "cell_type": "markdown",
   "id": "31b6ecf5",
   "metadata": {},
   "source": [
    "### **Submission Instructions**\n",
    "- Write your solutions in Python.\n",
    "- Rename the ipynb file as `yourname_Assignment Linked List, Stack, and Queue in Python`\n",
    "- Test each function and class implementation.\n",
    "- Submit the `.ipynb` file containing all solutions. and put it into given drive link:\n",
    "\n",
    "https://drive.google.com/drive/folders/1qRRJx0CslW_GAEl5CWcqGvXy2DzUbEIw?usp=sharing"
   ]
  },
  {
   "cell_type": "code",
   "execution_count": null,
   "id": "616253a6",
   "metadata": {},
   "outputs": [],
   "source": []
  }
 ],
 "metadata": {
  "kernelspec": {
   "display_name": "ckpcet",
   "language": "python",
   "name": "python3"
  },
  "language_info": {
   "codemirror_mode": {
    "name": "ipython",
    "version": 3
   },
   "file_extension": ".py",
   "mimetype": "text/x-python",
   "name": "python",
   "nbconvert_exporter": "python",
   "pygments_lexer": "ipython3",
   "version": "3.13.2"
  }
 },
 "nbformat": 4,
 "nbformat_minor": 5
}
